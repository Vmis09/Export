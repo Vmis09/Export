{
 "cells": [
  {
   "cell_type": "code",
   "execution_count": 10,
   "id": "d93529d5",
   "metadata": {},
   "outputs": [],
   "source": [
    "#Importing Necessary Libraries\n",
    "import pandas as pd\n",
    "import matplotlib.pyplot as plt\n",
    "%matplotlib inline\n",
    "import seaborn as sns\n",
    "import random\n",
    "from sklearn.model_selection import train_test_split\n",
    "from sklearn.linear_model import LogisticRegression\n",
    "from sklearn.metrics import accuracy_score, classification_report, confusion_matrix\n",
    "from sklearn.preprocessing import StandardScaler\n",
    "from sklearn.decomposition import PCA\n"
   ]
  },
  {
   "cell_type": "code",
   "execution_count": 3,
   "id": "ce65046c",
   "metadata": {},
   "outputs": [],
   "source": [
    "#Defining the Path\n",
    "file_path = r'D:\\Kaggle\\filtered_Expedia.csv'"
   ]
  },
  {
   "cell_type": "code",
   "execution_count": 4,
   "id": "c83759ec",
   "metadata": {},
   "outputs": [],
   "source": [
    "#Reading the Data\n",
    "df = pd.read_csv(file_path)"
   ]
  },
  {
   "cell_type": "code",
   "execution_count": 5,
   "id": "39f6e9c4",
   "metadata": {},
   "outputs": [],
   "source": [
    "\n",
    "\n",
    "# Features (X) and Target (y)\n",
    "features = ['site_name', 'posa_continent', 'user_location_country', 'user_location_region',\n",
    "            'user_location_city', 'orig_destination_distance', 'user_id', 'is_mobile',\n",
    "            'is_package', 'channel', 'srch_adults_cnt', 'srch_children_cnt', 'srch_rm_cnt',\n",
    "            'srch_destination_id', 'srch_destination_type_id', 'is_booking', 'cnt',\n",
    "            'hotel_continent', 'hotel_country', 'hotel_market', 'difference_in_days', 'month']\n",
    "target = 'hotel_cluster'\n",
    "\n",
    "X = df[features]\n",
    "y = df[target]\n",
    "\n",
    "# Split the data into training and testing sets (80% training, 20% testing)\n",
    "X_train, X_test, y_train, y_test = train_test_split(X, y, test_size=0.2, random_state=42)\n",
    "\n"
   ]
  },
  {
   "cell_type": "code",
   "execution_count": 6,
   "id": "3cc4a52d",
   "metadata": {},
   "outputs": [
    {
     "name": "stderr",
     "output_type": "stream",
     "text": [
      "C:\\Users\\vaibhav.bodhe\\AppData\\Local\\anaconda3\\Lib\\site-packages\\sklearn\\linear_model\\_logistic.py:460: ConvergenceWarning: lbfgs failed to converge (status=1):\n",
      "STOP: TOTAL NO. of ITERATIONS REACHED LIMIT.\n",
      "\n",
      "Increase the number of iterations (max_iter) or scale the data as shown in:\n",
      "    https://scikit-learn.org/stable/modules/preprocessing.html\n",
      "Please also refer to the documentation for alternative solver options:\n",
      "    https://scikit-learn.org/stable/modules/linear_model.html#logistic-regression\n",
      "  n_iter_i = _check_optimize_result(\n"
     ]
    },
    {
     "data": {
      "text/html": [
       "<style>#sk-container-id-1 {color: black;}#sk-container-id-1 pre{padding: 0;}#sk-container-id-1 div.sk-toggleable {background-color: white;}#sk-container-id-1 label.sk-toggleable__label {cursor: pointer;display: block;width: 100%;margin-bottom: 0;padding: 0.3em;box-sizing: border-box;text-align: center;}#sk-container-id-1 label.sk-toggleable__label-arrow:before {content: \"▸\";float: left;margin-right: 0.25em;color: #696969;}#sk-container-id-1 label.sk-toggleable__label-arrow:hover:before {color: black;}#sk-container-id-1 div.sk-estimator:hover label.sk-toggleable__label-arrow:before {color: black;}#sk-container-id-1 div.sk-toggleable__content {max-height: 0;max-width: 0;overflow: hidden;text-align: left;background-color: #f0f8ff;}#sk-container-id-1 div.sk-toggleable__content pre {margin: 0.2em;color: black;border-radius: 0.25em;background-color: #f0f8ff;}#sk-container-id-1 input.sk-toggleable__control:checked~div.sk-toggleable__content {max-height: 200px;max-width: 100%;overflow: auto;}#sk-container-id-1 input.sk-toggleable__control:checked~label.sk-toggleable__label-arrow:before {content: \"▾\";}#sk-container-id-1 div.sk-estimator input.sk-toggleable__control:checked~label.sk-toggleable__label {background-color: #d4ebff;}#sk-container-id-1 div.sk-label input.sk-toggleable__control:checked~label.sk-toggleable__label {background-color: #d4ebff;}#sk-container-id-1 input.sk-hidden--visually {border: 0;clip: rect(1px 1px 1px 1px);clip: rect(1px, 1px, 1px, 1px);height: 1px;margin: -1px;overflow: hidden;padding: 0;position: absolute;width: 1px;}#sk-container-id-1 div.sk-estimator {font-family: monospace;background-color: #f0f8ff;border: 1px dotted black;border-radius: 0.25em;box-sizing: border-box;margin-bottom: 0.5em;}#sk-container-id-1 div.sk-estimator:hover {background-color: #d4ebff;}#sk-container-id-1 div.sk-parallel-item::after {content: \"\";width: 100%;border-bottom: 1px solid gray;flex-grow: 1;}#sk-container-id-1 div.sk-label:hover label.sk-toggleable__label {background-color: #d4ebff;}#sk-container-id-1 div.sk-serial::before {content: \"\";position: absolute;border-left: 1px solid gray;box-sizing: border-box;top: 0;bottom: 0;left: 50%;z-index: 0;}#sk-container-id-1 div.sk-serial {display: flex;flex-direction: column;align-items: center;background-color: white;padding-right: 0.2em;padding-left: 0.2em;position: relative;}#sk-container-id-1 div.sk-item {position: relative;z-index: 1;}#sk-container-id-1 div.sk-parallel {display: flex;align-items: stretch;justify-content: center;background-color: white;position: relative;}#sk-container-id-1 div.sk-item::before, #sk-container-id-1 div.sk-parallel-item::before {content: \"\";position: absolute;border-left: 1px solid gray;box-sizing: border-box;top: 0;bottom: 0;left: 50%;z-index: -1;}#sk-container-id-1 div.sk-parallel-item {display: flex;flex-direction: column;z-index: 1;position: relative;background-color: white;}#sk-container-id-1 div.sk-parallel-item:first-child::after {align-self: flex-end;width: 50%;}#sk-container-id-1 div.sk-parallel-item:last-child::after {align-self: flex-start;width: 50%;}#sk-container-id-1 div.sk-parallel-item:only-child::after {width: 0;}#sk-container-id-1 div.sk-dashed-wrapped {border: 1px dashed gray;margin: 0 0.4em 0.5em 0.4em;box-sizing: border-box;padding-bottom: 0.4em;background-color: white;}#sk-container-id-1 div.sk-label label {font-family: monospace;font-weight: bold;display: inline-block;line-height: 1.2em;}#sk-container-id-1 div.sk-label-container {text-align: center;}#sk-container-id-1 div.sk-container {/* jupyter's `normalize.less` sets `[hidden] { display: none; }` but bootstrap.min.css set `[hidden] { display: none !important; }` so we also need the `!important` here to be able to override the default hidden behavior on the sphinx rendered scikit-learn.org. See: https://github.com/scikit-learn/scikit-learn/issues/21755 */display: inline-block !important;position: relative;}#sk-container-id-1 div.sk-text-repr-fallback {display: none;}</style><div id=\"sk-container-id-1\" class=\"sk-top-container\"><div class=\"sk-text-repr-fallback\"><pre>LogisticRegression()</pre><b>In a Jupyter environment, please rerun this cell to show the HTML representation or trust the notebook. <br />On GitHub, the HTML representation is unable to render, please try loading this page with nbviewer.org.</b></div><div class=\"sk-container\" hidden><div class=\"sk-item\"><div class=\"sk-estimator sk-toggleable\"><input class=\"sk-toggleable__control sk-hidden--visually\" id=\"sk-estimator-id-1\" type=\"checkbox\" checked><label for=\"sk-estimator-id-1\" class=\"sk-toggleable__label sk-toggleable__label-arrow\">LogisticRegression</label><div class=\"sk-toggleable__content\"><pre>LogisticRegression()</pre></div></div></div></div></div>"
      ],
      "text/plain": [
       "LogisticRegression()"
      ]
     },
     "execution_count": 6,
     "metadata": {},
     "output_type": "execute_result"
    }
   ],
   "source": [
    "# Initialize the logistic regression model\n",
    "model = LogisticRegression()\n",
    "\n",
    "# # Fit the model on the training data\n",
    "model.fit(X_train, y_train)\n",
    "\n",
    "\n"
   ]
  },
  {
   "cell_type": "code",
   "execution_count": 7,
   "id": "a93eb9bc",
   "metadata": {},
   "outputs": [
    {
     "name": "stderr",
     "output_type": "stream",
     "text": [
      "C:\\Users\\vaibhav.bodhe\\AppData\\Local\\anaconda3\\Lib\\site-packages\\sklearn\\metrics\\_classification.py:1469: UndefinedMetricWarning: Precision and F-score are ill-defined and being set to 0.0 in labels with no predicted samples. Use `zero_division` parameter to control this behavior.\n",
      "  _warn_prf(average, modifier, msg_start, len(result))\n",
      "C:\\Users\\vaibhav.bodhe\\AppData\\Local\\anaconda3\\Lib\\site-packages\\sklearn\\metrics\\_classification.py:1469: UndefinedMetricWarning: Precision and F-score are ill-defined and being set to 0.0 in labels with no predicted samples. Use `zero_division` parameter to control this behavior.\n",
      "  _warn_prf(average, modifier, msg_start, len(result))\n",
      "C:\\Users\\vaibhav.bodhe\\AppData\\Local\\anaconda3\\Lib\\site-packages\\sklearn\\metrics\\_classification.py:1469: UndefinedMetricWarning: Precision and F-score are ill-defined and being set to 0.0 in labels with no predicted samples. Use `zero_division` parameter to control this behavior.\n",
      "  _warn_prf(average, modifier, msg_start, len(result))\n"
     ]
    }
   ],
   "source": [
    "# # Predictions on the testing data\n",
    "y_pred = model.predict(X_test)\n",
    "\n",
    "# Evaluate the model\n",
    "accuracy = accuracy_score(y_test, y_pred)\n",
    "conf_matrix = confusion_matrix(y_test, y_pred)\n",
    "classification_rep = classification_report(y_test, y_pred)\n",
    "\n"
   ]
  },
  {
   "cell_type": "code",
   "execution_count": 8,
   "id": "79c774aa",
   "metadata": {},
   "outputs": [
    {
     "name": "stdout",
     "output_type": "stream",
     "text": [
      "Accuracy: 0.04909809293810422\n",
      "\n",
      "Confusion Matrix:\n",
      " [[ 0  0  0 ...  0  0  0]\n",
      " [ 0  0  0 ...  0  0  0]\n",
      " [ 0  4  0 ...  0  6  0]\n",
      " ...\n",
      " [ 0  8  0 ...  0  4  0]\n",
      " [ 0  1  0 ...  0  0  0]\n",
      " [ 0 12  0 ...  0  1  0]]\n",
      "\n",
      "Classification Report:\n",
      "               precision    recall  f1-score   support\n",
      "\n",
      "           0       0.00      0.00      0.00      2829\n",
      "           1       0.00      0.00      0.00      5969\n",
      "           2       0.00      0.00      0.00      4876\n",
      "           3       0.00      0.00      0.00      1323\n",
      "           4       0.00      0.00      0.00      5383\n",
      "           5       0.00      0.00      0.00      4683\n",
      "           6       0.00      0.00      0.00      6168\n",
      "           7       0.00      0.00      0.00      5365\n",
      "           8       0.00      0.00      0.00      2490\n",
      "           9       0.00      0.00      0.00      5821\n",
      "          10       0.00      0.00      0.00      4377\n",
      "          11       0.00      0.00      0.00      2713\n",
      "          12       0.00      0.00      0.00       920\n",
      "          13       0.00      0.00      0.00      6603\n",
      "          14       0.00      0.00      0.00      2116\n",
      "          15       0.00      0.00      0.00      5128\n",
      "          16       0.00      0.00      0.00      8322\n",
      "          17       0.00      0.00      0.00      2916\n",
      "          18       0.00      0.00      0.00      8614\n",
      "          19       0.00      0.00      0.00      5038\n",
      "          20       0.00      0.00      0.00      1195\n",
      "          21       0.00      0.00      0.00      7248\n",
      "          22       0.00      0.00      0.00      2543\n",
      "          23       0.00      0.00      0.00      2520\n",
      "          24       0.00      0.00      0.00      1967\n",
      "          25       0.00      0.00      0.00      5472\n",
      "          26       0.00      0.00      0.00      2376\n",
      "          27       0.00      0.00      0.00       289\n",
      "          28       0.00      0.00      0.00      9621\n",
      "          29       0.00      0.00      0.00      2862\n",
      "          30       0.00      0.00      0.00      2430\n",
      "          31       0.00      0.00      0.00      1850\n",
      "          32       0.00      0.00      0.00      6613\n",
      "          33       0.00      0.00      0.00      5791\n",
      "          34       0.00      0.00      0.00      3116\n",
      "          35       0.00      0.00      0.00       781\n",
      "          36       0.00      0.00      0.00      3467\n",
      "          37       0.00      0.00      0.00      5426\n",
      "          38       0.00      0.00      0.00      1328\n",
      "          39       0.00      0.00      0.00      6057\n",
      "          40       0.00      0.00      0.00      4446\n",
      "          41       0.00      0.00      0.00      7291\n",
      "          42       0.00      0.00      0.00     11479\n",
      "          43       0.00      0.00      0.00      3919\n",
      "          44       0.00      0.00      0.00      1132\n",
      "          45       0.00      0.00      0.00      2807\n",
      "          46       0.00      0.00      0.00      3663\n",
      "          47       0.00      0.00      0.00      6783\n",
      "          48       0.03      0.05      0.04     13552\n",
      "          49       0.00      0.00      0.00      3536\n",
      "          50       0.00      0.00      0.00      8509\n",
      "          51       0.00      0.00      0.00      4444\n",
      "          52       0.00      0.00      0.00      1314\n",
      "          53       0.00      0.00      0.00       488\n",
      "          54       0.00      0.00      0.00      3614\n",
      "          55       0.00      0.00      0.00      5272\n",
      "          56       0.00      0.00      0.00      3979\n",
      "          57       0.00      0.00      0.00       968\n",
      "          58       0.00      0.00      0.00      2840\n",
      "          59       0.00      0.00      0.00      8151\n",
      "          60       0.00      0.00      0.00       803\n",
      "          61       0.00      0.00      0.00      2249\n",
      "          62       0.00      0.00      0.00      3399\n",
      "          63       0.00      0.00      0.00      1403\n",
      "          64       0.03      0.00      0.00      4177\n",
      "          65       0.00      0.00      0.00      3478\n",
      "          66       0.00      0.00      0.00      1520\n",
      "          67       0.00      0.00      0.00      2037\n",
      "          68       0.00      0.00      0.00      6067\n",
      "          69       0.00      0.00      0.00      2507\n",
      "          70       0.00      0.00      0.00      5212\n",
      "          71       0.00      0.00      0.00      1380\n",
      "          72       0.00      0.00      0.00      6784\n",
      "          73       0.00      0.00      0.00      2196\n",
      "          74       0.00      0.00      0.00       386\n",
      "          75       0.00      0.00      0.00      1129\n",
      "          76       0.00      0.00      0.00      2725\n",
      "          77       0.00      0.00      0.00      5901\n",
      "          78       0.00      0.00      0.00      2242\n",
      "          79       0.00      0.00      0.00      3444\n",
      "          80       0.00      0.00      0.00       947\n",
      "          81       0.00      0.00      0.00      2321\n",
      "          82       0.03      0.00      0.00      4550\n",
      "          83       0.00      0.00      0.00      4707\n",
      "          84       0.00      0.00      0.00      1519\n",
      "          85       0.00      0.00      0.00      2020\n",
      "          86       0.00      0.00      0.00       800\n",
      "          87       0.00      0.00      0.00       888\n",
      "          88       0.00      0.00      0.00      1084\n",
      "          89       0.00      0.00      0.00      1927\n",
      "          90       0.00      0.00      0.00      3091\n",
      "          91       0.05      0.95      0.10     19810\n",
      "          92       0.00      0.00      0.00       807\n",
      "          93       0.00      0.00      0.00      1121\n",
      "          94       0.00      0.00      0.00      4416\n",
      "          95       0.00      0.00      0.00      8391\n",
      "          96       0.00      0.00      0.00      2519\n",
      "          97       0.00      0.00      0.00      3238\n",
      "          98       0.00      0.00      0.00      6755\n",
      "          99       0.00      0.00      0.00      4360\n",
      "\n",
      "    accuracy                           0.05    397103\n",
      "   macro avg       0.00      0.01      0.00    397103\n",
      "weighted avg       0.00      0.05      0.01    397103\n",
      "\n"
     ]
    }
   ],
   "source": [
    "# Display the results\n",
    "print(\"Accuracy:\", accuracy)\n",
    "print(\"\\nConfusion Matrix:\\n\", conf_matrix)\n",
    "print(\"\\nClassification Report:\\n\", classification_rep)"
   ]
  },
  {
   "cell_type": "code",
   "execution_count": 11,
   "id": "de4e1101",
   "metadata": {},
   "outputs": [
    {
     "name": "stdout",
     "output_type": "stream",
     "text": [
      "Accuracy: 0.07\n"
     ]
    }
   ],
   "source": [
    "features = ['site_name', 'posa_continent', 'user_location_country', 'user_location_region',\n",
    "            'user_location_city', 'orig_destination_distance', 'user_id', 'is_mobile',\n",
    "            'is_package', 'channel', 'srch_adults_cnt', 'srch_children_cnt', 'srch_rm_cnt',\n",
    "            'srch_destination_id', 'srch_destination_type_id', 'is_booking', 'cnt',\n",
    "            'hotel_continent', 'hotel_country', 'hotel_market', 'difference_in_days', 'month']\n",
    "target = 'hotel_cluster'\n",
    "\n",
    "X = df[features]\n",
    "y = df[target]\n",
    "\n",
    "# Split the data into training and testing sets\n",
    "X_train, X_test, y_train, y_test = train_test_split(X, y, test_size=0.2, random_state=42)\n",
    "\n",
    "# Standardize the features\n",
    "scaler = StandardScaler()\n",
    "X_train_scaled = scaler.fit_transform(X_train)\n",
    "X_test_scaled = scaler.transform(X_test)\n",
    "\n",
    "# Perform PCA\n",
    "n_components = 10  # Adjust the number of components as needed\n",
    "pca = PCA(n_components=n_components)\n",
    "X_train_pca = pca.fit_transform(X_train_scaled)\n",
    "X_test_pca = pca.transform(X_test_scaled)\n",
    "\n",
    "# Train logistic regression on the principal components\n",
    "model = LogisticRegression()\n",
    "model.fit(X_train_pca, y_train)\n",
    "\n",
    "# Make predictions on the test set\n",
    "y_pred = model.predict(X_test_pca)\n",
    "\n",
    "# Evaluate the model\n",
    "accuracy = accuracy_score(y_test, y_pred)\n",
    "print(f'Accuracy: {accuracy:.2f}')"
   ]
  },
  {
   "cell_type": "code",
   "execution_count": null,
   "id": "79d91c39",
   "metadata": {},
   "outputs": [],
   "source": []
  }
 ],
 "metadata": {
  "kernelspec": {
   "display_name": "Python 3 (ipykernel)",
   "language": "python",
   "name": "python3"
  },
  "language_info": {
   "codemirror_mode": {
    "name": "ipython",
    "version": 3
   },
   "file_extension": ".py",
   "mimetype": "text/x-python",
   "name": "python",
   "nbconvert_exporter": "python",
   "pygments_lexer": "ipython3",
   "version": "3.11.5"
  }
 },
 "nbformat": 4,
 "nbformat_minor": 5
}
